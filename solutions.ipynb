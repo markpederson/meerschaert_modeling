{
 "cells": [
  {
   "cell_type": "code",
   "execution_count": 4,
   "metadata": {
    "id": "1tizscWoQbjU"
   },
   "outputs": [],
   "source": [
    "# !pip install sympy\n",
    "import sympy as sp\n",
    "import numpy as np\n",
    "import matplotlib.pyplot as plt"
   ]
  },
  {
   "cell_type": "markdown",
   "metadata": {
    "id": "v6ijjgonRUUZ"
   },
   "source": [
    "# Chapter 2"
   ]
  },
  {
   "cell_type": "markdown",
   "metadata": {
    "id": "ZeGJLMb8BwX6"
   },
   "source": [
    "## Q1"
   ]
  },
  {
   "cell_type": "markdown",
   "metadata": {
    "id": "zOoPSbj8GeEQ"
   },
   "source": [
    "### (a)\n",
    "From the instantaneous growth rates\n",
    "$$\\frac{dx}{dt}=r_1x\\bigg(1-\\frac{x}{K_1}\\bigg)-\\alpha_1xy\n",
    "\\hspace{1cm}\\text{and}\\hspace{1cm}\n",
    "\\frac{dy}{dt}=r_2y\\bigg(1-\\frac{y}{K_2}\\bigg)-\\alpha_2xy$$\n",
    "we can maxmimize the combined rate\n",
    "$$z = f(x,y) = \\frac{dx}{dt} + \\frac{dy}{dt}\n",
    "= r_1x\\bigg(1-\\frac{x}{K_1}\\bigg)-\\alpha_1xy \n",
    "+ r_2y\\bigg(1-\\frac{y}{K_2}\\bigg)-\\alpha_2xy\n",
    "$$"
   ]
  },
  {
   "cell_type": "code",
   "execution_count": 5,
   "metadata": {
    "colab": {
     "base_uri": "https://localhost:8080/"
    },
    "id": "xFe2xryBMCy6",
    "outputId": "d8cf5e34-c07d-4ccd-df75-dc0f9d867ebf"
   },
   "outputs": [
    {
     "name": "stdout",
     "output_type": "stream",
     "text": [
      "(69103.6554832248, 196544.817225839)\n",
      "9589.38407611417\n"
     ]
    }
   ],
   "source": [
    "x, y, r1, r2, K1, K2, a1, a2, a = sp.symbols('x y r1 r2 k1 k2 a1 a2 a')\n",
    "dx_dt = 0.05*x*(1-x/150000) - 10**(-8)*x*y\n",
    "dy_dt = 0.08*y*(1-y/400000) - 10**(-8)*x*y\n",
    "f = dx_dt + dy_dt\n",
    "df_dx = sp.diff(f, x)\n",
    "df_dy = sp.diff(f, y)\n",
    "\n",
    "sol = sp.solve_poly_system([df_dx, df_dy], x, y)\n",
    "print(sol[0])\n",
    "print(f.evalf(subs={x:sol[0][0], y:sol[0][1]}))"
   ]
  },
  {
   "cell_type": "markdown",
   "metadata": {
    "id": "s-DTRkmTGxwV"
   },
   "source": [
    "which yields the solution\n",
    "$$\\frac{\\partial z}{\\partial x} = \\frac{\\partial z}{\\partial y}= 0\n",
    "\\implies\n",
    "\\begin{cases}\n",
    "  x=69,104\\\\\n",
    "  y=196,545\\\\\n",
    "  f(x,y) = 9,589\n",
    "\\end{cases}\n",
    "$$\n",
    "\n",
    "Therefore, the population levels of 69,104 blue whales and 196,545 fin whales maximize the number of new whales born each year."
   ]
  },
  {
   "cell_type": "markdown",
   "metadata": {
    "id": "hNvv3w27GYcc"
   },
   "source": [
    "### (b)\n"
   ]
  },
  {
   "cell_type": "code",
   "execution_count": 6,
   "metadata": {
    "colab": {
     "base_uri": "https://localhost:8080/"
    },
    "id": "LCS1N9UbO2e1",
    "outputId": "c91cfe40-9b66-4ba3-9cc7-b5a20cf64bc3"
   },
   "outputs": [
    {
     "name": "stdout",
     "output_type": "stream",
     "text": [
      "S(x, r1) = 0.085\n",
      "S(y, r1) = -0.002\n",
      "S(x, r2) = -0.002\n",
      "S(y, r2) = 0.018\n"
     ]
    }
   ],
   "source": [
    "#1b \n",
    "f1 = r1*x*(1-x/150000) - 10**(-8)*x*y + 0.08*y*(1-y/400000) - 10**(-8)*x*y\n",
    "df1_dx = sp.diff(f1, x)\n",
    "df1_dy = sp.diff(f1, y)\n",
    "# sol = sp.solve_poly_system([df1_dx, df1_dy], x, y)\n",
    "sol = ((12000000*(250*r1 - 1))/(40000*r1 - 3), (7850000000*r1)/(40000*r1 - 3))\n",
    "dx_dr1, dy_dr1 = sp.diff(sol[0], r1), sp.diff(sol[1], r1) \n",
    "s_x_r1 = (3000000000/(40000*0.05 - 3) - 40000*(3000000000*0.05 - 12000000)/(40000*0.05 - 3)**2) * (0.05 / 69103.6554832248)\n",
    "s_y_r1 = (-314000000000000*0.05/(40000*0.05 - 3)**2 + 7850000000/(40000*0.05 - 3)) * (0.05 / 196544.817225839)\n",
    "\n",
    "\n",
    "f2 = 0.05*x*(1-x/150000) - 10**(-8)*x*y + r2*y*(1-y/400000) - 10**(-8)*x*y\n",
    "df2_dx = sp.diff(f2, x)\n",
    "df2_dy = sp.diff(f2, y)\n",
    "# sol = sp.solve_poly_system([df2_dx, df2_dy], x,y)\n",
    "sol = (1725000000*r2)/(25000*r2 - 3), (2500000*(2000*r2 - 3))/(25000*r2 - 3)\n",
    "dx_dr2, dy_dr2 = sp.diff(sol[0], r2), sp.diff(sol[1], r2)\n",
    "s_x_r2 = (-43125000000000*0.08/(25000*0.08 - 3)**2 + 1725000000/(25000*0.08 - 3)) * (0.08 / 69103.6554832248)\n",
    "s_y_r2 = (5000000000/(25000*0.08 - 3) - 25000*(5000000000*0.08 - 7500000)/(25000*0.08 - 3)**2) * (0.08 / 196544.817225839)\n",
    "\n",
    "\n",
    "print('S(x, r1) = '+str(round(s_x_r1, 3)))\n",
    "print('S(y, r1) = '+str(round(s_y_r1, 3)))\n",
    "print('S(x, r2) = '+str(round(s_x_r2, 3)))\n",
    "print('S(y, r2) = '+str(round(s_y_r2, 3)))"
   ]
  },
  {
   "cell_type": "markdown",
   "metadata": {
    "id": "TA75FChsHgZj"
   },
   "source": [
    "Allowing the intrinsic growth rate parameters $r_i$ to vary yields the sensitivity values (evaluated at the maximization point from (a))\n",
    "$$S(x, r_1) = \\frac{dx}{dr_1}\\frac{r_1}{x} = 0.085 = \\frac{8.5}{100}$$\n",
    "$$S(y, r_1) = \\frac{dy}{dr_1}\\frac{r_1}{y} = -0.002 = -\\frac{2}{1000}$$\n",
    "$$S(x, r_2) = \\frac{dx}{dr_2}\\frac{r_2}{x} = -0.002 = -\\frac{2}{1000}$$\n",
    "$$S(y, r_2) = \\frac{dy}{dr_2}\\frac{r_2}{y} = 0.018 = -\\frac{1.8}{100}$$\n",
    "\n",
    "which are relatively minimal."
   ]
  },
  {
   "cell_type": "markdown",
   "metadata": {
    "id": "HE-3FX2fID2P"
   },
   "source": [
    "### (c)"
   ]
  },
  {
   "cell_type": "code",
   "execution_count": 7,
   "metadata": {
    "colab": {
     "base_uri": "https://localhost:8080/"
    },
    "id": "-flOPpFTItwQ",
    "outputId": "e1a32a5c-25c0-4bb2-a208-ef05b681d592"
   },
   "outputs": [
    {
     "name": "stdout",
     "output_type": "stream",
     "text": [
      "S(x, K1) = 1.002\n",
      "S(y, K1) = -0.018\n",
      "S(x, K2) = -0.085\n",
      "S(y, K2) = 1.002\n"
     ]
    }
   ],
   "source": [
    "f1 = 0.05*x*(1-x/K1) - 10**(-8)*x*y + 0.08*y*(1-y/400000) - 10**(-8)*x*y\n",
    "df1_dx = sp.diff(f1, x)\n",
    "df1_dy = sp.diff(f1, y)\n",
    "# sol = sp.solve_poly_system([df1_dx, df1_dy], x, y)\n",
    "sol = -(46000000*K1)/(K1 - 100000000), (2500000*(K1 - 8000000))/(K1 - 100000000)\n",
    "dx_dK1, dy_dK1 = sp.diff(sol[0], K1), sp.diff(sol[1], K1)\n",
    "s_x_K1 = dx_dK1.evalf(subs={K1:150000}) * (150000/69103.6554832248)\n",
    "s_y_K1 = dy_dK1.evalf(subs={K1:150000}) * (150000/196544.817225839)\n",
    "\n",
    "\n",
    "f2 = 0.05*x*(1-x/150000) - 10**(-8)*x*y + 0.08*y*(1-y/K2) - 10**(-8)*x*y\n",
    "df2_dx, df2_dy = sp.diff(f2, x), sp.diff(f2, y)\n",
    "# sol = sp.solve_poly_system([df2_dx, df2_dy], x, y)\n",
    "sol = (12000000*(K2 - 5000000))/(3*K2 - 800000000), -(392500000*K2)/(3*K2 - 800000000)\n",
    "dx_dK2, dy_dK2 = sp.diff(sol[0], K2), sp.diff(sol[1], K2)\n",
    "s_x_K2 = dx_dK2.evalf(subs={K2:400000}) * (400000/69103.6554832248)\n",
    "s_y_K2 = dy_dK2.evalf(subs={K2:400000}) * (400000/196544.817225839)\n",
    "\n",
    "print('S(x, K1) = '+str(round(s_x_K1, 3)))\n",
    "print('S(y, K1) = '+str(round(s_y_K1, 3)))\n",
    "print('S(x, K2) = '+str(round(s_x_K2, 3)))\n",
    "print('S(y, K2) = '+str(round(s_y_K2, 3)))"
   ]
  },
  {
   "cell_type": "markdown",
   "metadata": {
    "id": "RmHA79sCMDi5"
   },
   "source": [
    "Allowing the carrying capacity parameters $K_i$ to vary yields the sensitivity values (evaluated at the maximization point from (a))\n",
    "$$S(x, K_1) = \\frac{dx}{dK_1}\\frac{K_1}{x} = 1.002 = \\frac{1.002}{1}$$\n",
    "$$S(y, K_1) = \\frac{dy}{dK_1}\\frac{K_1}{y} = -0.018 = -\\frac{-1.8}{100}$$\n",
    "$$S(x, K_2) = \\frac{dx}{dK_2}\\frac{K_2}{x} = -0.085 = -\\frac{8.5}{100}$$\n",
    "$$S(y, K_2) = \\frac{dy}{dK_2}\\frac{K_2}{y} = 1.002 = -\\frac{1.002}{1}$$\n",
    "\n",
    "so that a 1% increase in a species' carrying capacity increasing that species' optimal population by 1%, but has a minimal effect on the competitive species."
   ]
  },
  {
   "cell_type": "markdown",
   "metadata": {
    "id": "R0BHpaTOM4EF"
   },
   "source": [
    "### (d)\n",
    "We consider\n",
    "$$z=f(x,y)\n",
    "=r_1x\\bigg(1-\\frac{x}{K_1}\\bigg)\n",
    "+r_2y\\bigg(1-\\frac{y}{K_2}\\bigg)\n",
    "-2\\alpha xy\n",
    "$$"
   ]
  },
  {
   "cell_type": "code",
   "execution_count": 8,
   "metadata": {
    "colab": {
     "base_uri": "https://localhost:8080/",
     "height": 295
    },
    "id": "ThHvb7BTN1iz",
    "outputId": "1c1b8bdd-98d1-48af-9af2-c41f789cb527"
   },
   "outputs": [
    {
     "data": {
      "text/plain": [
       "[<matplotlib.lines.Line2D at 0x7f9e09d86358>]"
      ]
     },
     "execution_count": 8,
     "metadata": {},
     "output_type": "execute_result"
    },
    {
     "data": {
      "image/png": "[encoded data removed]",
      "text/plain": [
       "<Figure size 432x288 with 1 Axes>"
      ]
     },
     "metadata": {
      "needs_background": "light"
     },
     "output_type": "display_data"
    }
   ],
   "source": [
    "dx_dt = 0.05*x*(1-x/150000) - a*x*y\n",
    "dy_dt = 0.08*y*(1-y/400000) - a*x*y\n",
    "f = dx_dt + dy_dt\n",
    "\n",
    "df_dx, df_dy = sp.diff(f, x), sp.diff(f, y)\n",
    "\n",
    "sol = (75000*(8000000*a - 1))/(15000000000000*a**2 - 1), (200000*(1875000*a - 1))/(15000000000000*a**2 - 1)\n",
    "\n",
    "ival = np.arange(0, 3*10**(-7), 0.0000001)\n",
    "xval = []\n",
    "yval = []\n",
    "for i in ival:\n",
    "  xval.append(sol[0].evalf(subs={a:i}))\n",
    "  yval.append(sol[1].evalf(subs={a:i}))\n",
    "\n",
    "plt.plot(ival, xval)\n",
    "plt.plot(ival, yval)"
   ]
  },
  {
   "cell_type": "code",
   "execution_count": 9,
   "metadata": {
    "colab": {
     "base_uri": "https://localhost:8080/"
    },
    "id": "JoIurgorQhxR",
    "outputId": "bee23b3a-cb70-4097-bbc2-f790fcf29849"
   },
   "outputs": [
    {
     "data": {
      "text/plain": [
       "1.25e-07"
      ]
     },
     "execution_count": 9,
     "metadata": {},
     "output_type": "execute_result"
    }
   ],
   "source": [
    "float(sp.solve(sol[0], a)[0])"
   ]
  },
  {
   "cell_type": "markdown",
   "metadata": {
    "id": "rNZdXlAKQxRx"
   },
   "source": [
    "Therefore, if $\\alpha >= 1\\times 10^{-7}$, it is optimal for blue whales to become extinct."
   ]
  }
 ],
 "metadata": {
  "colab": {
   "name": "Untitled5.ipynb",
   "provenance": [],
   "toc_visible": true
  },
  "kernelspec": {
   "display_name": "Python 3",
   "language": "python",
   "name": "python3"
  },
  "language_info": {
   "codemirror_mode": {
    "name": "ipython",
    "version": 3
   },
   "file_extension": ".py",
   "mimetype": "text/x-python",
   "name": "python",
   "nbconvert_exporter": "python",
   "pygments_lexer": "ipython3",
   "version": "3.7.2"
  }
 },
 "nbformat": 4,
 "nbformat_minor": 1
}
